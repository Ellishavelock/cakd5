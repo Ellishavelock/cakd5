{
 "cells": [
  {
   "cell_type": "code",
   "execution_count": 1,
   "id": "28de9e91",
   "metadata": {
    "scrolled": true
   },
   "outputs": [
    {
     "name": "stdout",
     "output_type": "stream",
     "text": [
      "Hello Python\n"
     ]
    }
   ],
   "source": [
    "print(\"Hello Python\")"
   ]
  },
  {
   "cell_type": "markdown",
   "id": "cea5f6e1",
   "metadata": {},
   "source": [
    "## 파이썬 기초\n",
    "### 파이썬이란\n",
    "### 파이썬의 특징\n",
    "- 1990년 암스테르담의 귀도 반 로섬(Guido Van Rossum)이 개발한 인터프리터 언어\n",
    "- 컴퓨터 프로그래밍 교육을 위해 많이 사용하지만, 기업의 실무를 위해서도 많이 사용하는 언어. 구글에서 만든 소프트웨어의 50% 이상이 파이썬으로 작성\n",
    "\n",
    "### 파이썬의 특징\n",
    "\n",
    "- 파이썬은 인간다운 언어이다\n",
    "- 파이썬은 문법이 쉬워 빠르게 배울 수 있다\n",
    "- 파이썬은 무료이지만 강력하다\n",
    "- 파이썬은 간결하다\n",
    "- 파이썬은 프로그래밍을 즐기게 해준다\n",
    "- 파이썬은 개발 속도가 빠르다\n",
    "\n",
    "### 파이썬으로 할 수 있는 일\n",
    "\n",
    "- 시스템 유틸리티 제작\n",
    "- GUI 프로그래밍\n",
    "- C/C++ 와의 결합\n",
    "- 웹 프로그래밍\n",
    "- 수치 연산 프로그래밍\n",
    "- 데이터베이스 프로그래밍\n",
    "- 데이터 분석, 사물 인터넷\n",
    "\n",
    "### 참조\n",
    "\n",
    "- 표현식 : 어떤한 값을 만들어 내는 간단한 코드. 273, 10 + 20 + 30, \"Python Programming\"\n",
    "- 문장 : 표현식이 하나 이상 모이면 문장. print(\"Hello\")\n",
    "- 프로그램 : 문장이 모여서 프로그램\n",
    "- 식별자 : 프로그래밍 언어에서 이름을 붙일 때 사용하는 단어. 주로 변수 또는 함수 이름 등으로 사용\n",
    "- 주석 : 프로그램을 설명하기 위해 사용. # 기호로 주석처리\n",
    "- 연산자 : 스스로 값이 되는 것이 아니고 값과 값 사이에 무언가 기능을 적용할 때 사용\n",
    "- 자료 : 리터럴이라고 하는데 숫자이든 문자이든 어떠한 값 자체를 의미. 1, 10, \"Hello\"\n",
    "- 키워드 : 파이썬이 만들어질 때 이미 사용하겠다고 예약해 놓는 것. False, None, True, ...\n",
    "- 프로그래밍 언어에서 사용자가 이름을 정할 때 키워드는 사용할 수 없음"
   ]
  },
  {
   "cell_type": "code",
   "execution_count": 1,
   "id": "dade5c43",
   "metadata": {},
   "outputs": [
    {
     "name": "stdout",
     "output_type": "stream",
     "text": [
      "Python 3.8.12\n"
     ]
    }
   ],
   "source": [
    "!python -V"
   ]
  },
  {
   "cell_type": "code",
   "execution_count": 3,
   "id": "a2ef001d",
   "metadata": {},
   "outputs": [
    {
     "name": "stdout",
     "output_type": "stream",
     "text": [
      "273\n"
     ]
    },
    {
     "data": {
      "text/plain": [
       "60"
      ]
     },
     "execution_count": 3,
     "metadata": {},
     "output_type": "execute_result"
    }
   ],
   "source": [
    "# 표현식\n",
    "print (273)\n",
    "10+20+30"
   ]
  },
  {
   "cell_type": "code",
   "execution_count": 5,
   "id": "7a4fc209",
   "metadata": {},
   "outputs": [
    {
     "name": "stdout",
     "output_type": "stream",
     "text": [
      "Hello Python\n",
      "52 Hello Python 8\n"
     ]
    }
   ],
   "source": [
    "# 표현식이 하나 이상씩 모이면 문장\n",
    "print (\"Hello Python\")\n",
    "print (52, 'Hello Python', 5+3)"
   ]
  },
  {
   "cell_type": "code",
   "execution_count": 13,
   "id": "9d13ff99",
   "metadata": {},
   "outputs": [
    {
     "name": "stdout",
     "output_type": "stream",
     "text": [
      "2\n"
     ]
    }
   ],
   "source": [
    "# 문장이 모여서 프로그램\n",
    "a = 1;b = 1;c=a+b\n",
    "print(c)"
   ]
  },
  {
   "cell_type": "code",
   "execution_count": 17,
   "id": "f69c757e",
   "metadata": {},
   "outputs": [
    {
     "name": "stdout",
     "output_type": "stream",
     "text": [
      "['False', 'None', 'True', 'and', 'as', 'assert', 'async', 'await', 'break', 'class', 'continue', 'def', 'del', 'elif', 'else', 'except', 'finally', 'for', 'from', 'global', 'if', 'import', 'in', 'is', 'lambda', 'nonlocal', 'not', 'or', 'pass', 'raise', 'return', 'try', 'while', 'with', 'yield'] \n",
      "\n",
      "35\n"
     ]
    }
   ],
   "source": [
    "# python keyword\n",
    "import keyword\n",
    "print(keyword.kwlist, '\\n')\n",
    "print(len(keyword.kwlist))"
   ]
  },
  {
   "cell_type": "markdown",
   "id": "c0551672",
   "metadata": {},
   "source": [
    "### 식별자 기본 규칙\n",
    "\n",
    "- 키워드를 사용하면 안된다.\n",
    "- 특수문자는 언더 바( _ )만 사용한다.\n",
    "- 숫자로 시작하면 안된다.\n",
    "- 공백을 포함할 수 없다."
   ]
  },
  {
   "cell_type": "code",
   "execution_count": null,
   "id": "6c52a38a",
   "metadata": {},
   "outputs": [],
   "source": [
    "alpha\n",
    "break # 키워드\n",
    "alpha10\n",
    "_alpha\n",
    "273alpha # 숫자\n",
    "AlpHa\n",
    "ALPHA\n",
    "has space # 공백"
   ]
  },
  {
   "cell_type": "markdown",
   "id": "c1ec3a35",
   "metadata": {},
   "source": [
    "## http://bibi6666667.tistory.com/277\n",
    "## 파이썬은 snake_case와 Camelcase를 모두 사용\n",
    "\n",
    "- itemlist item_list ItemList\n",
    "- loginstatus login_status LoginStatus\n",
    "- 캐멀 케이스(대문자로 시작) 클래스\n",
    "- 스네이크 케이스(소문자로 시작) 뒤에 ()가 있다 - 함수\n",
    "- 스네이크 케이스(소문자로 시작) 뒤에 ()가 없다 - 변수"
   ]
  },
  {
   "cell_type": "code",
   "execution_count": 19,
   "id": "1ac7c8bb",
   "metadata": {},
   "outputs": [
    {
     "name": "stdout",
     "output_type": "stream",
     "text": [
      "3이 있습니다.\n"
     ]
    }
   ],
   "source": [
    "# 사람이 생각하는 방식을 그대로 표현할 수 있는 언어\n",
    "\n",
    "if 3 in [1,2,3,4]: print('3이 있습니다.')"
   ]
  },
  {
   "cell_type": "code",
   "execution_count": 21,
   "id": "2c778d96",
   "metadata": {},
   "outputs": [
    {
     "name": "stdout",
     "output_type": "stream",
     "text": [
      "5가 있습니다.\n"
     ]
    }
   ],
   "source": [
    "if 5 in [1,2,3,4,5,6,7,8,9,10,11,12,13,14,15,16,17,18,19,20,21,21,23,24,25]: print('5가 있습니다.')"
   ]
  },
  {
   "cell_type": "code",
   "execution_count": 23,
   "id": "e2942fde",
   "metadata": {},
   "outputs": [
    {
     "name": "stdout",
     "output_type": "stream",
     "text": [
      "123\n",
      "-123\n",
      "0\n",
      "1.23\n",
      "127\n",
      "2748\n",
      "43\n"
     ]
    }
   ],
   "source": [
    "# 파이썬 자료형 - 숫자형(정수, 실수, 8진수, 16진수)\n",
    "a = 123\n",
    "b = -123\n",
    "c = 0\n",
    "d = 1.23\n",
    "e = 0o177 # 8진수 0o으로 시작\n",
    "f = 0xABC # 16진수 0x로 시작\n",
    "g = 0b101011 # 2진수 0b로 시작\n",
    "print(a)\n",
    "print(b)\n",
    "print(c)\n",
    "print(d)\n",
    "print(e)\n",
    "print(f)\n",
    "print(g)"
   ]
  },
  {
   "cell_type": "code",
   "execution_count": 24,
   "id": "122faa6f",
   "metadata": {},
   "outputs": [
    {
     "name": "stdout",
     "output_type": "stream",
     "text": [
      "10\n",
      "2\n",
      "12\n",
      "2\n",
      "5.0\n",
      "0\n",
      "5\n",
      "8\n"
     ]
    }
   ],
   "source": [
    "# 사칙연산\n",
    "a = 10\n",
    "b = 2\n",
    "c = a + b\n",
    "d = a & b\n",
    "e = a / b\n",
    "f = a % b   # 나머지\n",
    "g = a // b  # 몫\n",
    "h = 2 ** 3  # 제곱\n",
    "print(a)\n",
    "print(b)\n",
    "print(c)\n",
    "print(d)\n",
    "print(e)\n",
    "print(f)\n",
    "print(g)\n",
    "print(h)"
   ]
  },
  {
   "cell_type": "code",
   "execution_count": 25,
   "id": "734583a0",
   "metadata": {},
   "outputs": [
    {
     "ename": "TypeError",
     "evalue": "can only concatenate str (not \"int\") to str",
     "output_type": "error",
     "traceback": [
      "\u001b[1;31m---------------------------------------------------------------------------\u001b[0m",
      "\u001b[1;31mTypeError\u001b[0m                                 Traceback (most recent call last)",
      "\u001b[1;32m~\\AppData\\Local\\Temp/ipykernel_7128/1265390702.py\u001b[0m in \u001b[0;36m<module>\u001b[1;34m\u001b[0m\n\u001b[0;32m      2\u001b[0m \u001b[0mstring\u001b[0m \u001b[1;33m=\u001b[0m \u001b[1;34m\"문자열 \"\u001b[0m\u001b[1;33m\u001b[0m\u001b[1;33m\u001b[0m\u001b[0m\n\u001b[0;32m      3\u001b[0m \u001b[0mnumber\u001b[0m \u001b[1;33m=\u001b[0m \u001b[1;36m273\u001b[0m\u001b[1;33m\u001b[0m\u001b[1;33m\u001b[0m\u001b[0m\n\u001b[1;32m----> 4\u001b[1;33m \u001b[0mstring\u001b[0m \u001b[1;33m+\u001b[0m \u001b[0mnumber\u001b[0m\u001b[1;33m\u001b[0m\u001b[1;33m\u001b[0m\u001b[0m\n\u001b[0m",
      "\u001b[1;31mTypeError\u001b[0m: can only concatenate str (not \"int\") to str"
     ]
    }
   ],
   "source": [
    "# 다른 타입간 연산은 안됨\n",
    "string = \"문자열 \"\n",
    "number = 273\n",
    "string + number"
   ]
  },
  {
   "cell_type": "code",
   "execution_count": 26,
   "id": "ff25e736",
   "metadata": {},
   "outputs": [
    {
     "data": {
      "text/plain": [
       "int"
      ]
     },
     "execution_count": 26,
     "metadata": {},
     "output_type": "execute_result"
    }
   ],
   "source": [
    "a = 10\n",
    "a = \"문자\"\n",
    "a = 100\n",
    "type(a)"
   ]
  },
  {
   "cell_type": "code",
   "execution_count": 27,
   "id": "c4cc2ee4",
   "metadata": {},
   "outputs": [
    {
     "data": {
      "text/plain": [
       "200"
      ]
     },
     "execution_count": 27,
     "metadata": {},
     "output_type": "execute_result"
    }
   ],
   "source": [
    "# 복합 대입 연산자\n",
    "num = 10\n",
    "num += 10\n",
    "num *= 10\n",
    "num"
   ]
  },
  {
   "cell_type": "code",
   "execution_count": 29,
   "id": "44f8dd6b",
   "metadata": {},
   "outputs": [
    {
     "data": {
      "text/plain": [
       "10.0"
      ]
     },
     "execution_count": 29,
     "metadata": {},
     "output_type": "execute_result"
    }
   ],
   "source": [
    "num = 100\n",
    "num -= 50\n",
    "num /= 5\n",
    "num"
   ]
  },
  {
   "cell_type": "code",
   "execution_count": 28,
   "id": "eff97be5",
   "metadata": {
    "scrolled": true
   },
   "outputs": [
    {
     "name": "stdout",
     "output_type": "stream",
     "text": [
      "인사말을 입력하세요: 안녕하세요\n"
     ]
    },
    {
     "data": {
      "text/plain": [
       "'안녕하세요'"
      ]
     },
     "execution_count": 28,
     "metadata": {},
     "output_type": "execute_result"
    }
   ],
   "source": [
    "# 사용자 입력\n",
    "input('인사말을 입력하세요: ')"
   ]
  },
  {
   "cell_type": "code",
   "execution_count": 30,
   "id": "0f4052b8",
   "metadata": {},
   "outputs": [
    {
     "name": "stdout",
     "output_type": "stream",
     "text": [
      "숫자를 입력하세요: 10\n",
      "10\n"
     ]
    },
    {
     "data": {
      "text/plain": [
       "str"
      ]
     },
     "execution_count": 30,
     "metadata": {},
     "output_type": "execute_result"
    }
   ],
   "source": [
    "num = input ('숫자를 입력하세요: ')\n",
    "print(num)\n",
    "type(num)"
   ]
  },
  {
   "cell_type": "code",
   "execution_count": 31,
   "id": "62556983",
   "metadata": {},
   "outputs": [
    {
     "name": "stdout",
     "output_type": "stream",
     "text": [
      "숫자를 입력하세요5\n",
      "숫자를 입력하세요5\n",
      "55\n"
     ]
    }
   ],
   "source": [
    "num1 = input('숫자를 입력하세요')\n",
    "num2 = input('숫자를 입력하세요')\n",
    "print(num1 + num2)"
   ]
  },
  {
   "cell_type": "code",
   "execution_count": 33,
   "id": "07dcbe73",
   "metadata": {},
   "outputs": [
    {
     "name": "stdout",
     "output_type": "stream",
     "text": [
      "숫자를 입력하세요5\n",
      "숫자를 입력하세요5\n",
      "10\n"
     ]
    }
   ],
   "source": [
    "# input() 함수를 사용하면 숫자도 문자로 전환되어 숫자연산을 위한 변환필요\n",
    "num1 = input('숫자를 입력하세요')\n",
    "num1_n = int(num1)\n",
    "num2 = input('숫자를 입력하세요')\n",
    "num2_n = int(num2)\n",
    "print(num1_n + num2_n)"
   ]
  },
  {
   "cell_type": "code",
   "execution_count": 35,
   "id": "b54da64e",
   "metadata": {},
   "outputs": [
    {
     "name": "stdout",
     "output_type": "stream",
     "text": [
      "숫자를 입력하세요3\n",
      "숫자를 입력하세요3.3\n",
      "6.3\n"
     ]
    }
   ],
   "source": [
    "# Q. 3과 3.3을 입력하고 숫자 연산을 수행하여 6.3을 출력하세요.\n",
    "\n",
    "num1 = input('숫자를 입력하세요')\n",
    "num1_n = int(num1)\n",
    "num2 = input('숫자를 입력하세요')\n",
    "num2_n = float(num2)\n",
    "print(num1_n + num2_n)"
   ]
  },
  {
   "cell_type": "code",
   "execution_count": 36,
   "id": "9161aaf9",
   "metadata": {},
   "outputs": [
    {
     "name": "stdout",
     "output_type": "stream",
     "text": [
      "5252.273\n"
     ]
    }
   ],
   "source": [
    "# Q. a = 52와 b = 52.273일때 a+b는 5252.273으로 출력되도록 a와 b를 문자열로 계산\n",
    "# 자료형으로 변환하세요.\n",
    "\n",
    "a = 52\n",
    "b = 52.273\n",
    "print(str(a) + str(b))"
   ]
  },
  {
   "cell_type": "code",
   "execution_count": 37,
   "id": "5c133896",
   "metadata": {},
   "outputs": [
    {
     "name": "stdout",
     "output_type": "stream",
     "text": [
      "python's value is great\n"
     ]
    }
   ],
   "source": [
    "# 문자열 : \"\", '', \"\"\" \"\"\", ''''''\n",
    "p1 = \"python's value is great\"\n",
    "# p2 = 'python's value is great'\n",
    "print(p1)"
   ]
  },
  {
   "cell_type": "code",
   "execution_count": 38,
   "id": "eab2419d",
   "metadata": {},
   "outputs": [
    {
     "data": {
      "text/plain": [
       "'\"pyton is valuable\" he says'"
      ]
     },
     "execution_count": 38,
     "metadata": {},
     "output_type": "execute_result"
    }
   ],
   "source": [
    "s1 = '\"pyton is valuable\" he says'\n",
    "s1"
   ]
  },
  {
   "cell_type": "code",
   "execution_count": 40,
   "id": "c9e13dd4",
   "metadata": {},
   "outputs": [
    {
     "data": {
      "text/plain": [
       "\"python's value is great\""
      ]
     },
     "execution_count": 40,
     "metadata": {},
     "output_type": "execute_result"
    }
   ],
   "source": [
    "s2 = 'python\\'s value is great'\n",
    "s2"
   ]
  },
  {
   "cell_type": "code",
   "execution_count": 41,
   "id": "57ba5afb",
   "metadata": {},
   "outputs": [
    {
     "name": "stdout",
     "output_type": "stream",
     "text": [
      "Once you study data analysis\n",
      "You need Python\n",
      "Once you study data analysis\n",
      "you need Python\n",
      "Once you study data analysis\n",
      "You need Python\n"
     ]
    }
   ],
   "source": [
    "y1 = \"Once you study data analysis\\nYou need Python\"\n",
    "print(y1)\n",
    "y2 = '''Once you study data analysis\n",
    "you need Python'''\n",
    "print(y2)\n",
    "y3 = \"\"\"Once you study data analysis\n",
    "You need Python\"\"\"\n",
    "print(y3)"
   ]
  },
  {
   "cell_type": "code",
   "execution_count": 45,
   "id": "d3f43b98",
   "metadata": {},
   "outputs": [
    {
     "name": "stdout",
     "output_type": "stream",
     "text": [
      "인생'은 짧다.\n",
      "'당신에겐 파이썬이 필요하다\n"
     ]
    }
   ],
   "source": [
    "p1 = '''인생'은 짧다.\\n'당신에겐 파이썬이 필요하다'''\n",
    "print(p1)"
   ]
  },
  {
   "cell_type": "code",
   "execution_count": 46,
   "id": "31f80395",
   "metadata": {},
   "outputs": [
    {
     "name": "stdout",
     "output_type": "stream",
     "text": [
      "python is easy to learn\n",
      "pythonpythonpython\n",
      "====================\n"
     ]
    }
   ],
   "source": [
    "# 문자열 연산\n",
    "a1 = 'python'\n",
    "a2 = ' is easy to learn'\n",
    "print(a1 + a2)\n",
    "print(a1 * 3)\n",
    "print(\"=\" * 20)"
   ]
  },
  {
   "cell_type": "code",
   "execution_count": 47,
   "id": "c8a718b5",
   "metadata": {
    "scrolled": true
   },
   "outputs": [
    {
     "name": "stdout",
     "output_type": "stream",
     "text": [
      "[1, 'a', 'abc', [1, 2, 3, 4, 5], ['a', 'b', 'c']]\n"
     ]
    }
   ],
   "source": [
    "# 자료형 - List\n",
    "# 리스트는 [] 로 표시하며 [] 안의 요소를 콤마로 구분하여 순서있게  나열\n",
    "list1 = [1,2,3,4,5]\n",
    "list2 = ['a','b','c']\n",
    "list3 = [1,'a','abc',[1,2,3,4,5],['a','b','c']]\n",
    "print(list3)"
   ]
  },
  {
   "cell_type": "code",
   "execution_count": 48,
   "id": "471961a0",
   "metadata": {},
   "outputs": [
    {
     "data": {
      "text/plain": [
       "'b'"
      ]
     },
     "execution_count": 48,
     "metadata": {},
     "output_type": "execute_result"
    }
   ],
   "source": [
    "# 인덱싱\n",
    "list1 = [1,2,3,4,5]\n",
    "list1[:]\n",
    "list3[2]\n",
    "list3[3][4]\n",
    "list3[4][1]"
   ]
  },
  {
   "cell_type": "code",
   "execution_count": 54,
   "id": "36c77bec",
   "metadata": {},
   "outputs": [
    {
     "name": "stdout",
     "output_type": "stream",
     "text": [
      "[1, 1, 2, 3, 4, 5, 6, 7, 8, 9]\n",
      "['a', 'a', 'c']\n",
      "['a', 'c']\n"
     ]
    }
   ],
   "source": [
    "# 리스트 수정, 삭제\n",
    "\n",
    "a = [0, 1, 2, 3, 4, 5, 6, 7, 8, 9]\n",
    "b = ['a', 'b', 'c']\n",
    "a[0] = 1\n",
    "b[1] = 'a'\n",
    "print(a)\n",
    "print(b)\n",
    "del b[1]\n",
    "print(b)"
   ]
  },
  {
   "cell_type": "code",
   "execution_count": 56,
   "id": "415feffa",
   "metadata": {},
   "outputs": [
    {
     "name": "stdout",
     "output_type": "stream",
     "text": [
      "[0, 1, 2, 3, 4, 5, 6, 7, 8, 9, 'a', 'b', 'c']\n"
     ]
    },
    {
     "data": {
      "text/plain": [
       "'c'"
      ]
     },
     "execution_count": 56,
     "metadata": {},
     "output_type": "execute_result"
    }
   ],
   "source": [
    "a = [0, 1, 2, 3, 4, 5, 6, 7, 8, 9]\n",
    "b = ['a', 'b', 'c']\n",
    "c = a + b\n",
    "print(c)\n",
    "#c[-1] = 1\n",
    "# C\n",
    "c[-1]"
   ]
  },
  {
   "cell_type": "code",
   "execution_count": 61,
   "id": "ae802311",
   "metadata": {},
   "outputs": [
    {
     "name": "stdout",
     "output_type": "stream",
     "text": [
      "[1, 2, 3, 4]\n",
      "[4, 3, 2, 1]\n",
      "[4, 3, 2, 1]\n"
     ]
    }
   ],
   "source": [
    "# 정렬\n",
    "b = [2,4,3,1]\n",
    "b.sort()\n",
    "print(b)\n",
    "# 내림차순\n",
    "b_d = sorted(b, reverse=True)\n",
    "print(b_d)\n",
    "b.reverse()\n",
    "print(b)"
   ]
  },
  {
   "cell_type": "code",
   "execution_count": 63,
   "id": "4d1a56c1",
   "metadata": {
    "scrolled": false
   },
   "outputs": [
    {
     "name": "stdout",
     "output_type": "stream",
     "text": [
      "[1, 1, 1, 2, 2, 3, 4, 5, 6, 7, 8, 9]\n",
      "[9, 8, 7, 6, 5, 4, 3, 2, 2, 1, 1, 1]\n"
     ]
    }
   ],
   "source": [
    "# 정렬, 내림차순으로 변환\n",
    "s = [1, 1, 2, 3, 4, 5, 6, 7, 8, 9, 2, 1]\n",
    "s.sort()\n",
    "print(s)\n",
    "s. reverse()\n",
    "print(s)"
   ]
  },
  {
   "cell_type": "code",
   "execution_count": 65,
   "id": "597030ef",
   "metadata": {},
   "outputs": [
    {
     "name": "stdout",
     "output_type": "stream",
     "text": [
      "2\n"
     ]
    }
   ],
   "source": [
    "# 인덱스 위치 반환\n",
    "c = [1,2,3,1,5]\n",
    "print(c. index(3))"
   ]
  },
  {
   "cell_type": "code",
   "execution_count": 71,
   "id": "2dfd121f",
   "metadata": {
    "scrolled": true
   },
   "outputs": [
    {
     "name": "stdout",
     "output_type": "stream",
     "text": [
      "[1, 83, 84, 95, 23, 63, 76, 17, 97, 90, 69, 97, 87, 44, 65, 75, 11, 78, 48, 78, 18, 75, 44, 18, 56, 80, 29, 0, 55, 83, 69, 82, 75, 61, 88, 30, 97, 96, 2, 26, 91, 9, 26, 34, 13, 81, 21, 10, 73, 91, 95, 64, 71, 16, 69, 49, 51, 7, 34, 96, 94, 83, 32, 81, 38, 30, 21, 59, 89, 76, 85, 43, 21, 95, 19, 40, 78, 69, 21, 52, 82, 88, 13, 20, 21, 80, 44, 24, 2, 58, 18, 66, 99, 93, 71, 79, 49, 57, 70, 81]\n"
     ]
    },
    {
     "data": {
      "text/plain": [
       "14"
      ]
     },
     "execution_count": 71,
     "metadata": {},
     "output_type": "execute_result"
    }
   ],
   "source": [
    "import numpy as np\n",
    "c = np.random.randint(100, size=100).tolist()\n",
    "print(c)\n",
    "c.index(65)"
   ]
  },
  {
   "cell_type": "code",
   "execution_count": 85,
   "id": "baf9d321",
   "metadata": {
    "scrolled": true
   },
   "outputs": [
    {
     "name": "stdout",
     "output_type": "stream",
     "text": [
      "2\n"
     ]
    }
   ],
   "source": [
    "# 개수 반환\n",
    "c = [1,1,3,3,3,5,5]\n",
    "print(c.count(5))"
   ]
  },
  {
   "cell_type": "code",
   "execution_count": 80,
   "id": "bfaa6c71",
   "metadata": {},
   "outputs": [
    {
     "name": "stdout",
     "output_type": "stream",
     "text": [
      "[1, 2, 3, 4, 5]\n",
      "[1, 2, 3, 4, 5, 6]\n",
      "[5, 1, 2, 3, 4, 5, 6]\n",
      "[5, 1, 2, 3, 4, 5, 6, 7, 8, 9]\n"
     ]
    }
   ],
   "source": [
    "# 리스트 확장\n",
    "h = [1,2,3]\n",
    "h.extend([4,5])\n",
    "print(h)\n",
    "# 추가\n",
    "h.append(6)\n",
    "print(h)\n",
    "h.insert(0,5)\n",
    "print(h)\n",
    "h.extend([7,8,9])\n",
    "print(h)"
   ]
  },
  {
   "cell_type": "code",
   "execution_count": 82,
   "id": "8def97ea",
   "metadata": {},
   "outputs": [
    {
     "data": {
      "text/plain": [
       "'b'"
      ]
     },
     "execution_count": 82,
     "metadata": {},
     "output_type": "execute_result"
    }
   ],
   "source": [
    "# 튜플\n",
    "tuple1 = (1,2,3,4,5)\n",
    "tuple2 = ('a','b','c')\n",
    "tuple3 = (1, 'a','abc',[1,2,3,4,5],['a','b','c'])\n",
    "\n",
    "tuple1[:]\n",
    "tuple3[2]\n",
    "tuple3[3][4]\n",
    "tuple3[4][1]"
   ]
  },
  {
   "cell_type": "code",
   "execution_count": 83,
   "id": "cf38a087",
   "metadata": {},
   "outputs": [
    {
     "ename": "TypeError",
     "evalue": "'tuple' object does not support item assignment",
     "output_type": "error",
     "traceback": [
      "\u001b[1;31m---------------------------------------------------------------------------\u001b[0m",
      "\u001b[1;31mTypeError\u001b[0m                                 Traceback (most recent call last)",
      "\u001b[1;32m~\\AppData\\Local\\Temp/ipykernel_7128/382731322.py\u001b[0m in \u001b[0;36m<module>\u001b[1;34m\u001b[0m\n\u001b[0;32m      1\u001b[0m \u001b[1;31m# 자료형 - Tuple\u001b[0m\u001b[1;33m\u001b[0m\u001b[1;33m\u001b[0m\u001b[1;33m\u001b[0m\u001b[0m\n\u001b[0;32m      2\u001b[0m \u001b[1;31m# 튜플의 요소 값은 변경할 수 없음 - 프로그램에서 그 값이 항상 변하지 않아야되는 경우 사용\u001b[0m\u001b[1;33m\u001b[0m\u001b[1;33m\u001b[0m\u001b[1;33m\u001b[0m\u001b[0m\n\u001b[1;32m----> 3\u001b[1;33m \u001b[0mtuple1\u001b[0m\u001b[1;33m[\u001b[0m\u001b[1;36m0\u001b[0m\u001b[1;33m]\u001b[0m \u001b[1;33m=\u001b[0m \u001b[1;36m6\u001b[0m\u001b[1;33m\u001b[0m\u001b[1;33m\u001b[0m\u001b[0m\n\u001b[0m\u001b[0;32m      4\u001b[0m \u001b[0mprint\u001b[0m\u001b[1;33m(\u001b[0m\u001b[0mtuple1\u001b[0m\u001b[1;33m)\u001b[0m\u001b[1;33m\u001b[0m\u001b[1;33m\u001b[0m\u001b[0m\n",
      "\u001b[1;31mTypeError\u001b[0m: 'tuple' object does not support item assignment"
     ]
    }
   ],
   "source": [
    "# 자료형 - Tuple\n",
    "# 튜플의 요소 값은 변경할 수 없음 - 프로그램에서 그 값이 항상 변하지 않아야되는 경우 사용\n",
    "tuple1[0] = 6\n",
    "print(tuple1)"
   ]
  },
  {
   "cell_type": "code",
   "execution_count": 84,
   "id": "29a52a03",
   "metadata": {},
   "outputs": [
    {
     "name": "stdout",
     "output_type": "stream",
     "text": [
      "(1,)\n",
      "(1, 2, 3)\n",
      "(1, 2, 3, 1, 2, 3, 1, 2, 3)\n",
      "(1, 1, 2, 3)\n",
      "1\n"
     ]
    },
    {
     "data": {
      "text/plain": [
       "int"
      ]
     },
     "execution_count": 84,
     "metadata": {},
     "output_type": "execute_result"
    }
   ],
   "source": [
    "t1 = (1,) # 1개의 요소만 가질 때는 요소뒤에 콤마를 붙여야 함\n",
    "print(t1)\n",
    "t2 = 1,2,3\n",
    "print(t2)\n",
    "print(t2 * 3)\n",
    "t3 = t1 + t2\n",
    "print(t3)\n",
    "t4 = (1)\n",
    "print(t4)\n",
    "type(t4)"
   ]
  },
  {
   "cell_type": "code",
   "execution_count": 86,
   "id": "4269a3bf",
   "metadata": {
    "scrolled": true
   },
   "outputs": [
    {
     "name": "stdout",
     "output_type": "stream",
     "text": [
      "1\n",
      "{'a': 1, 'b': 5, 'c': 3}\n"
     ]
    }
   ],
   "source": [
    "# 자료형 - 사전(키와 값을 하나의 요소로 하는 순서가 없는 집합)\n",
    "d1 = {'a':1,'b':2,'c':3}\n",
    "print(d1['a'])\n",
    "d1['b'] = 5\n",
    "print(d1)"
   ]
  },
  {
   "cell_type": "code",
   "execution_count": 87,
   "id": "98c84256",
   "metadata": {},
   "outputs": [
    {
     "name": "stdout",
     "output_type": "stream",
     "text": [
      "dict_keys(['a', 'b', 'c'])\n",
      "dict_values([1, 5, 3])\n",
      "dict_items([('a', 1), ('b', 5), ('c', 3)])\n"
     ]
    }
   ],
   "source": [
    "print(d1.keys())\n",
    "print(d1.values())\n",
    "print(d1.items())"
   ]
  },
  {
   "cell_type": "code",
   "execution_count": 93,
   "id": "3fe4fe52",
   "metadata": {
    "scrolled": true
   },
   "outputs": [
    {
     "name": "stdout",
     "output_type": "stream",
     "text": [
      "123\n",
      "{'a': 123, 'b': 456, 'c': 546, 'd': 101112, 'e': 131415, 'f': 161718}\n"
     ]
    }
   ],
   "source": [
    "a1 = {'a':123,'b':456,'c':789,'d':101112,'e':131415,'f':161718}\n",
    "print(a1['a'])\n",
    "a1['c'] = 546\n",
    "print(a1)"
   ]
  },
  {
   "cell_type": "code",
   "execution_count": 94,
   "id": "bb304937",
   "metadata": {},
   "outputs": [
    {
     "name": "stdout",
     "output_type": "stream",
     "text": [
      "{1, 2, 3, 4, 5}\n",
      "{'e', 'l', 'o', 'H'}\n"
     ]
    }
   ],
   "source": [
    "# 자료형 - 집합, set(중복을 허용하지 않으며 순서가 없다.)\n",
    "s1 = set([1,2,5,4,3])\n",
    "s2 = set('Hello')\n",
    "print(s1)\n",
    "print(s2)"
   ]
  },
  {
   "cell_type": "code",
   "execution_count": 95,
   "id": "35e445b9",
   "metadata": {},
   "outputs": [
    {
     "name": "stdout",
     "output_type": "stream",
     "text": [
      "2\n",
      "l\n"
     ]
    }
   ],
   "source": [
    "# 집합은 인덱싱으로 값을 얻을 수 없으며 필요시 리스트나 튜플로 변환 후 인덱싱\n",
    "\n",
    "l1 = list(s1)\n",
    "print(l1[1])\n",
    "l2 = list(s2)\n",
    "print(l2[1])"
   ]
  },
  {
   "cell_type": "code",
   "execution_count": 97,
   "id": "ca754d9e",
   "metadata": {},
   "outputs": [
    {
     "name": "stdout",
     "output_type": "stream",
     "text": [
      "[1, 2, 3, 4, 5, 6, 7, 8, 9]\n",
      "[4, 5, 6]\n"
     ]
    }
   ],
   "source": [
    "# Q. s1, s2의 합집합과 교집합을 각각 리스트와 튜플로 출력하세요.\n",
    "# 합집합(s1 ㅣ s2), 교집합(s1 & s2)\n",
    "s1 = set([1, 2, 3, 4, 5, 6])\n",
    "s2 = set([4, 5, 6, 7, 8, 9])\n",
    "\n",
    "list1 = list(s1)\n",
    "print(list(s1|s2))\n",
    "list2 = list(s2)\n",
    "print(list(s1&s2))"
   ]
  },
  {
   "cell_type": "code",
   "execution_count": 99,
   "id": "6dc938de",
   "metadata": {},
   "outputs": [
    {
     "name": "stdout",
     "output_type": "stream",
     "text": [
      "a가 li에 있습니다.\n",
      "d가 li에 없습니다\n"
     ]
    }
   ],
   "source": [
    "# 들여쓰기\n",
    "li = ['a','b','c']\n",
    "if 'a' in li:\n",
    "    print('a가 li에 있습니다.')\n",
    "else:\n",
    "    print('a가 li에 없습니다.')\n",
    "if 'd' in li:\n",
    "    print('d가 li에 있습니다')\n",
    "else:\n",
    "    print('d가 li에 없습니다')"
   ]
  },
  {
   "cell_type": "code",
   "execution_count": 101,
   "id": "95dc9a96",
   "metadata": {},
   "outputs": [
    {
     "data": {
      "text/plain": [
       "'나의 이름은 홍길동입니다. 나이는 30입니다.'"
      ]
     },
     "execution_count": 101,
     "metadata": {},
     "output_type": "execute_result"
    }
   ],
   "source": [
    "# 문자열 포멧\n",
    "\n",
    "name = '홍길동'\n",
    "age = 30\n",
    "f'나의 이름은 {name}입니다. 나이는 {age}입니다.'"
   ]
  },
  {
   "cell_type": "code",
   "execution_count": 1,
   "id": "226e3d6c",
   "metadata": {},
   "outputs": [
    {
     "data": {
      "text/plain": [
       "'나의 이름은 홍길동 입니다. 나이는 30입니다.'"
      ]
     },
     "execution_count": 1,
     "metadata": {},
     "output_type": "execute_result"
    }
   ],
   "source": [
    "d = {'name':'홍길동', 'age':30}\n",
    "f'나의 이름은 {d[\"name\"]} 입니다. 나이는 {d[\"age\"]}입니다.'"
   ]
  },
  {
   "cell_type": "code",
   "execution_count": 104,
   "id": "f55f5089",
   "metadata": {},
   "outputs": [
    {
     "data": {
      "text/plain": [
       "'3.1237'"
      ]
     },
     "execution_count": 104,
     "metadata": {},
     "output_type": "execute_result"
    }
   ],
   "source": [
    "y = 3.123718293\n",
    "f'{y:0.4f}'   # 소수점 4자리까지만 표현"
   ]
  },
  {
   "cell_type": "code",
   "execution_count": 105,
   "id": "4e67b577",
   "metadata": {},
   "outputs": [
    {
     "data": {
      "text/plain": [
       "'    3.1237'"
      ]
     },
     "execution_count": 105,
     "metadata": {},
     "output_type": "execute_result"
    }
   ],
   "source": [
    "f'{y:10.4f}'  # 소수점 4자리까지 표현하고 총 자리수를 10으로 맞춤"
   ]
  },
  {
   "cell_type": "code",
   "execution_count": 107,
   "id": "3da19ba3",
   "metadata": {},
   "outputs": [
    {
     "name": "stdout",
     "output_type": "stream",
     "text": [
      "홍길동 선수가 1등입니다.\n",
      "홍길동 선수가 1등입니다.\n"
     ]
    }
   ],
   "source": [
    "# 포멧함수\n",
    "f1 = \"{} 선수가 {}등입니다.\".format('홍길동',1)\n",
    "# f1 = \"{1} 선수가 {0}등입니다.\".format(1,'홍길동')\n",
    "print(f1)\n",
    "print(\"%s 선수가 %d등입니다.\" %(\"홍길동\",1))"
   ]
  },
  {
   "cell_type": "code",
   "execution_count": 109,
   "id": "c0cc812d",
   "metadata": {
    "scrolled": true
   },
   "outputs": [
    {
     "name": "stdout",
     "output_type": "stream",
     "text": [
      "파이썬은 자바보다 2배 쉽습니다.\n"
     ]
    }
   ],
   "source": [
    "f1 = \"{}은 {}보다 {}배 쉽습니다.\".format('파이썬','자바',2)\n",
    "print(f1)\n",
    "print(\"%s은 %s보다 \")"
   ]
  },
  {
   "cell_type": "markdown",
   "id": "2bd8b557",
   "metadata": {},
   "source": [
    "# [과제] 아래와 같이 출력하세요\n",
    "<img src = 캡처.png STYLE='width:800px:'>"
   ]
  },
  {
   "cell_type": "code",
   "execution_count": 120,
   "id": "07fdbb20",
   "metadata": {
    "scrolled": true
   },
   "outputs": [
    {
     "name": "stdout",
     "output_type": "stream",
     "text": [
      "12345\n",
      "12.345679\n"
     ]
    }
   ],
   "source": [
    "x = 12345\n",
    "print(x)\n",
    "f'{x:10.0f}'\n",
    "y = 12.345679\n",
    "\n",
    "print(y)"
   ]
  },
  {
   "cell_type": "code",
   "execution_count": 121,
   "id": "dee71b01",
   "metadata": {},
   "outputs": [
    {
     "name": "stdout",
     "output_type": "stream",
     "text": [
      "저축 증가\n"
     ]
    }
   ],
   "source": [
    "# 제어문 - if~elif~else\n",
    "# \"수입과 지출금액을 비교해서 수입이 많으면 저축 증가, 반대이면 빚이 증가,\n",
    "# 같으면 현상 유지\"\n",
    "\n",
    "i = 5,000,000\n",
    "e = 3,000,000\n",
    "\n",
    "if i > e:\n",
    "    print('저축 증가')\n",
    "elif i < e:\n",
    "    print('빚이 증가')\n",
    "else:\n",
    "    print('현상 유지')\n",
    "    "
   ]
  },
  {
   "cell_type": "code",
   "execution_count": 123,
   "id": "6c481b44",
   "metadata": {},
   "outputs": [
    {
     "name": "stdout",
     "output_type": "stream",
     "text": [
      "5 15 6 20 7 25 "
     ]
    }
   ],
   "source": [
    "# for 반복문\n",
    "numbers = [5,15,6,20,7,25]\n",
    "for number in numbers:\n",
    "    print(number,end=' ')"
   ]
  },
  {
   "cell_type": "code",
   "execution_count": 149,
   "id": "c4033b9f",
   "metadata": {},
   "outputs": [
    {
     "name": "stdout",
     "output_type": "stream",
     "text": [
      "1 2 3 4 5 "
     ]
    }
   ],
   "source": [
    "# for ~ continue ~ break\n",
    "# 1~10 범위의 정수에서 1부터 5까지만 출력하세요\n",
    "for i in range(1,11):\n",
    "    print(i,end=' ')\n",
    "    if i < 5:\n",
    "        continue\n",
    "    else:\n",
    "        break"
   ]
  },
  {
   "cell_type": "code",
   "execution_count": 150,
   "id": "f2cdea4f",
   "metadata": {},
   "outputs": [
    {
     "name": "stdout",
     "output_type": "stream",
     "text": [
      "15 20 25 "
     ]
    }
   ],
   "source": [
    "# numbers 리스트에서 15,20,25를 출력하세요. (for 문과 if 조건 사용 필수)\n",
    "numbers = [5, 15, 6, 20, 7, 25]\n",
    "\n",
    "for number in numbers:\n",
    "    if number > 10:\n",
    "        print(number,end = ' ')"
   ]
  },
  {
   "cell_type": "code",
   "execution_count": 151,
   "id": "37c9e828",
   "metadata": {},
   "outputs": [
    {
     "name": "stdout",
     "output_type": "stream",
     "text": [
      "45\n",
      "1035\n"
     ]
    }
   ],
   "source": [
    "# while\n",
    "# 정수 1부터 n까지 더할 때 그 합이 1000보다 커지게 되는 n과 합을 구하세요\n",
    "\n",
    "x = 1\n",
    "sum = 0\n",
    "while 1:\n",
    "    sum = sum + x\n",
    "    if sum > 1000:\n",
    "        print(x)\n",
    "        print(sum)\n",
    "        break\n",
    "    x = x + 1"
   ]
  },
  {
   "cell_type": "code",
   "execution_count": 153,
   "id": "85237ed6",
   "metadata": {},
   "outputs": [
    {
     "name": "stdout",
     "output_type": "stream",
     "text": [
      "166833\n"
     ]
    }
   ],
   "source": [
    "# while문을 사용해서 1부터 1000까지의 정수 중에서 3의 배수의 합을 구해보세요\n",
    "\n",
    "i=0\n",
    "sum=0\n",
    "\n",
    "while i < 1000:\n",
    "    i+=1\n",
    "    if i%3==0:\n",
    "        sum = sum+i\n",
    "        \n",
    "print(sum)"
   ]
  },
  {
   "cell_type": "code",
   "execution_count": null,
   "id": "a741aba3",
   "metadata": {},
   "outputs": [],
   "source": [
    "# [과제] 1부터 100까지의 정수중 5에서 95까지의 합을 구하세요"
   ]
  },
  {
   "cell_type": "code",
   "execution_count": 16,
   "id": "8fc629e9",
   "metadata": {
    "scrolled": true
   },
   "outputs": [
    {
     "ename": "IndentationError",
     "evalue": "expected an indented block (Temp/ipykernel_7764/453389271.py, line 5)",
     "output_type": "error",
     "traceback": [
      "\u001b[1;36m  File \u001b[1;32m\"C:\\Users\\admin\\AppData\\Local\\Temp/ipykernel_7764/453389271.py\"\u001b[1;36m, line \u001b[1;32m5\u001b[0m\n\u001b[1;33m    sum += x\u001b[0m\n\u001b[1;37m    ^\u001b[0m\n\u001b[1;31mIndentationError\u001b[0m\u001b[1;31m:\u001b[0m expected an indented block\n"
     ]
    }
   ],
   "source": [
    "x = 1\n",
    "sum=0\n",
    "while x<=100:\n",
    "    if x >= 5 or x <= 95:\n",
    "    sum += x\n",
    "    x += 1\n",
    "    print(sum)"
   ]
  },
  {
   "cell_type": "code",
   "execution_count": null,
   "id": "4cdbd16b",
   "metadata": {},
   "outputs": [],
   "source": [
    "# [과제] 1부터 5까지 입력해서 12345를 출력하세요"
   ]
  },
  {
   "cell_type": "code",
   "execution_count": 10,
   "id": "91114f4b",
   "metadata": {},
   "outputs": [
    {
     "name": "stdout",
     "output_type": "stream",
     "text": [
      "12345\n"
     ]
    }
   ],
   "source": [
    "a1 = '1'\n",
    "a2 = '2'\n",
    "a3 = '3'\n",
    "a4 = '4'\n",
    "a5 = '5'\n",
    "print(a1 + a2 + a3 + a4 + a5)"
   ]
  },
  {
   "cell_type": "code",
   "execution_count": null,
   "id": "3a46694e",
   "metadata": {},
   "outputs": [],
   "source": [
    "# [과제] [0, 1, 2, 3, 4, 5, 6, 7, 8, 9, 'a', 'b', 'c']에서 0와 9를 삭제 후 리스트로 출력하세요"
   ]
  },
  {
   "cell_type": "code",
   "execution_count": 9,
   "id": "ef07eea2",
   "metadata": {},
   "outputs": [
    {
     "name": "stdout",
     "output_type": "stream",
     "text": [
      "[1, 2, 3, 4, 5, 6, 7, 8, 'a', 'b', 'c']\n"
     ]
    }
   ],
   "source": [
    "a = [0, 1, 2, 3, 4, 5, 6, 7, 8, 9, 'a', 'b', 'c']\n",
    "del a[0]\n",
    "del a[8]\n",
    "print(a)"
   ]
  },
  {
   "cell_type": "code",
   "execution_count": null,
   "id": "4588838b",
   "metadata": {},
   "outputs": [],
   "source": [
    "# [과제] [0, 1, 2, 3, 4, 5, 6, 7, 8, 'b', 'c']에서 'c'를 삭제 후 출력하세요"
   ]
  },
  {
   "cell_type": "code",
   "execution_count": 6,
   "id": "3d58d8d5",
   "metadata": {},
   "outputs": [
    {
     "name": "stdout",
     "output_type": "stream",
     "text": [
      "[0, 1, 2, 3, 4, 5, 6, 7, 8, 'b']\n"
     ]
    }
   ],
   "source": [
    "a = [0, 1, 2, 3, 4, 5, 6, 7, 8, 'b', 'c']\n",
    "del a[10]\n",
    "print(a)"
   ]
  },
  {
   "cell_type": "code",
   "execution_count": null,
   "id": "a9abdecd",
   "metadata": {},
   "outputs": [],
   "source": [
    "# [과제] [4, 8, 5, 4, 8, 4, 3, 9, 1, 9]를 내림차순으로 정렬하세요"
   ]
  },
  {
   "cell_type": "code",
   "execution_count": 5,
   "id": "e22fff69",
   "metadata": {},
   "outputs": [
    {
     "name": "stdout",
     "output_type": "stream",
     "text": [
      "[9, 9, 8, 8, 5, 4, 4, 4, 3, 1]\n"
     ]
    }
   ],
   "source": [
    "x = [4, 8, 5, 4, 8, 4, 3, 9, 1, 9]\n",
    "x.sort(reverse=True)\n",
    "print(x)"
   ]
  },
  {
   "cell_type": "code",
   "execution_count": null,
   "id": "d52daf7b",
   "metadata": {},
   "outputs": [],
   "source": [
    "# [과제] format 함수를 이용해서 다음과 같은 형식으로 현재 날짜/시간을 출력하세요."
   ]
  },
  {
   "cell_type": "code",
   "execution_count": 13,
   "id": "140e82fa",
   "metadata": {},
   "outputs": [
    {
     "name": "stdout",
     "output_type": "stream",
     "text": [
      "현재 시간 : 오전 2021-12-30 00:12:41.028942\n"
     ]
    }
   ],
   "source": [
    "import datetime\n",
    "\n",
    "now = datetime.datetime.now()\n",
    "\n",
    "if now.hour < 12:\n",
    "    print('현재 시간 : 오전 {}'.format(now))\n",
    "\n",
    "if now.hour >= 12:\n",
    "    print('현재 시간 : 오후 {}'.format(now))"
   ]
  },
  {
   "cell_type": "code",
   "execution_count": null,
   "id": "b32d0fc0",
   "metadata": {},
   "outputs": [],
   "source": [
    "# [과제] 현재 시각을 오전과 오후로 구분하는 프로그램을 작성하세요."
   ]
  },
  {
   "cell_type": "code",
   "execution_count": 14,
   "id": "75f6f8d0",
   "metadata": {},
   "outputs": [
    {
     "name": "stdout",
     "output_type": "stream",
     "text": [
      "현재 시간 : 오전 2021-12-30 00:13:35.644515\n"
     ]
    }
   ],
   "source": [
    "import datetime\n",
    "\n",
    "now = datetime.datetime.now()\n",
    "\n",
    "if now.hour < 12:\n",
    "    print('현재 시간 : 오전 {}'.format(now))\n",
    "\n",
    "if now.hour >= 12:\n",
    "    print('현재 시간 : 오후 {}'.format(now))"
   ]
  },
  {
   "cell_type": "code",
   "execution_count": null,
   "id": "ac8ead66",
   "metadata": {},
   "outputs": [],
   "source": [
    "# [과제] 정수를 입력하면 홀수 짝수를 판별하는 프로그램을 작성하세요"
   ]
  },
  {
   "cell_type": "code",
   "execution_count": 15,
   "id": "fe2c146a",
   "metadata": {},
   "outputs": [
    {
     "name": "stdout",
     "output_type": "stream",
     "text": [
      "정수 x=2\n",
      "짝수\n"
     ]
    }
   ],
   "source": [
    "x = int(input(\"정수 x=\"))\n",
    "\n",
    "if (x%2==1):\n",
    "    print(\"홀수\")\n",
    "else:\n",
    "    print(\"짝수\")"
   ]
  },
  {
   "cell_type": "code",
   "execution_count": null,
   "id": "0315bcbb",
   "metadata": {},
   "outputs": [],
   "source": [
    "# [과제] 태어난 연도를 입력받아 띠를 출력하는 프로그램을 작성하세요.\n",
    "# 원숭이, 닭, 개, 돼지, 쥐, 소, 범, 토끼, 용, 뱀, 말, 양띠"
   ]
  },
  {
   "cell_type": "code",
   "execution_count": 18,
   "id": "f388ad1e",
   "metadata": {},
   "outputs": [
    {
     "name": "stdout",
     "output_type": "stream",
     "text": [
      "태어난 년도를 입력해주세요.1989\n",
      "뱀 띠\n"
     ]
    }
   ],
   "source": [
    "year_input=int(input(\"태어난 년도를 입력해주세요.\"))\n",
    "birth_year=year_input%12\n",
    "\n",
    "if birth_year==0:\n",
    "    print(\"원숭이 띠\")\n",
    "\n",
    "elif birth_year==1:\n",
    "    print(\"닭 띠\")\n",
    "\n",
    "elif birth_year==2:\n",
    "    print(\"개 띠\")\n",
    "\n",
    "elif birth_year==3:\n",
    "    print(\"돼지 띠\")\n",
    "\n",
    "elif birth_year==4:\n",
    "    print(\"쥐 띠\")\n",
    "\n",
    "elif birth_year==5:\n",
    "    print(\"소 띠\")\n",
    "\n",
    "elif birth_year==6:\n",
    "    print(\"범 띠\")\n",
    "\n",
    "elif birth_year==7:\n",
    "    print(\"토끼 띠\")\n",
    "\n",
    "elif birth_year==8:\n",
    "    print(\"용 띠\")\n",
    "\n",
    "elif birth_year==9:\n",
    "    print(\"뱀 띠\")\n",
    "\n",
    "elif birth_year==10:\n",
    "    print(\"말 띠\")\n",
    "\n",
    "else:\n",
    "    print(\"양 띠\")"
   ]
  },
  {
   "cell_type": "markdown",
   "id": "f597b62f",
   "metadata": {},
   "source": [
    "## [과제] 계절 구분 프로그램\n",
    "\n",
    "- 각 계절별 출력 멘트는 계절에 맞게 창작\n",
    "- if 조건문으로 datetime 모듈을 import해서 datetime.now 함수를 사용해서 작성\n"
   ]
  },
  {
   "cell_type": "code",
   "execution_count": 7,
   "id": "5ecf6477",
   "metadata": {},
   "outputs": [
    {
     "name": "stdout",
     "output_type": "stream",
     "text": [
      "이번달은 12월이므로 겨울입니다\n"
     ]
    }
   ],
   "source": [
    "# 수정 요\n",
    "import datetime\n",
    "s=datetime.datetime.now()\n",
    "\n",
    "if 1<=s.month <=3: \n",
    "    print('이번달은 {}이므로 봄입니다'.format(s.month))\n",
    "elif 4<= s.month <=6: \n",
    "    print('이번달은 {}이므로 여름입니다'.format(s.month))\n",
    "elif 8<= s.month <=10: \n",
    "    print('이번달은 {}이므로 가을입니다'.format(s.month))\n",
    "else: \n",
    "    print('이번달은 {}월이므로 겨울입니다'.format(s.month))"
   ]
  },
  {
   "cell_type": "code",
   "execution_count": 8,
   "id": "f609037e",
   "metadata": {},
   "outputs": [
    {
     "name": "stdout",
     "output_type": "stream",
     "text": [
      "지금 우리가 지내는 계절은 어디쯤에 있나요?\n",
      "살고 싶으면 장롱에 있던 히트텍 꺼내라 ㅋㅋ\n"
     ]
    }
   ],
   "source": [
    "import datetime\n",
    "t = datetime.datetime.now()\n",
    "\n",
    "print('지금 우리가 지내는 계절은 어디쯤에 있나요?')\n",
    "if t.month<12 and t.month>=9:\n",
    "    print('단풍이 지천을 물들이는 계절, 가을입니다.')\n",
    "elif t.month<9 and t.month>=6:\n",
    "    print('작열하는 태양과 신록이 공존하는 계절, 여름입니다.')\n",
    "elif t.month<6 and t.month>=3:\n",
    "    print('벚꽃의 꽃말은 기말고사, 봄입니다.')\n",
    "else: print('살고 싶으면 장롱에 있던 히트텍 꺼내라 ㅋㅋ')"
   ]
  },
  {
   "cell_type": "markdown",
   "id": "362655d8",
   "metadata": {},
   "source": [
    "## [과제] 커피 자판기 프로그램\n",
    "\n",
    "- 시나리오 : 자판기 커피 재고 5잔, 커피 1잔 가격 300원, 재고 범위내에서 300원 이상 돈을 넣으면 거스름돈과 커피를 주고 그렇지 않으면 반환하며 재고가 소진되면 안내멘트 출력\n",
    "- 각 case별 멘트 출력은 상황에 맞게 창작\n",
    "- while, if ~ elif ~ else 제어문을 사용하여 작성"
   ]
  },
  {
   "cell_type": "code",
   "execution_count": 1,
   "id": "72f61c46",
   "metadata": {
    "scrolled": true
   },
   "outputs": [
    {
     "name": "stdout",
     "output_type": "stream",
     "text": [
      "맛있는 커피를 300원에 드립니다. 현금을 넣어주세요!!100\n",
      "커피는 300원입니다. 현금을 다시 넣어 주세요.\n"
     ]
    },
    {
     "ename": "KeyboardInterrupt",
     "evalue": "Interrupted by user",
     "output_type": "error",
     "traceback": [
      "\u001b[1;31m---------------------------------------------------------------------------\u001b[0m",
      "\u001b[1;31mKeyboardInterrupt\u001b[0m                         Traceback (most recent call last)",
      "\u001b[1;32m~\\AppData\\Local\\Temp/ipykernel_864/376362667.py\u001b[0m in \u001b[0;36m<module>\u001b[1;34m\u001b[0m\n\u001b[0;32m      3\u001b[0m \u001b[1;33m\u001b[0m\u001b[0m\n\u001b[0;32m      4\u001b[0m \u001b[1;32mwhile\u001b[0m \u001b[1;36m1\u001b[0m\u001b[1;33m:\u001b[0m\u001b[1;33m\u001b[0m\u001b[1;33m\u001b[0m\u001b[0m\n\u001b[1;32m----> 5\u001b[1;33m     \u001b[0mmoney\u001b[0m \u001b[1;33m=\u001b[0m \u001b[0mint\u001b[0m\u001b[1;33m(\u001b[0m\u001b[0minput\u001b[0m\u001b[1;33m(\u001b[0m\u001b[1;34m\"맛있는 커피를 300원에 드립니다. 현금을 넣어주세요!!\"\u001b[0m\u001b[1;33m)\u001b[0m\u001b[1;33m)\u001b[0m\u001b[1;33m\u001b[0m\u001b[1;33m\u001b[0m\u001b[0m\n\u001b[0m\u001b[0;32m      6\u001b[0m     \u001b[1;32mif\u001b[0m \u001b[0mmoney\u001b[0m \u001b[1;33m==\u001b[0m \u001b[1;36m300\u001b[0m\u001b[1;33m:\u001b[0m\u001b[1;33m\u001b[0m\u001b[1;33m\u001b[0m\u001b[0m\n\u001b[0;32m      7\u001b[0m         \u001b[0mprint\u001b[0m\u001b[1;33m(\u001b[0m\u001b[1;34m'커피를 맛있게 드세요'\u001b[0m\u001b[1;33m)\u001b[0m\u001b[1;33m\u001b[0m\u001b[1;33m\u001b[0m\u001b[0m\n",
      "\u001b[1;32m~\\Anaconda3\\envs\\cakd5\\lib\\site-packages\\ipykernel\\kernelbase.py\u001b[0m in \u001b[0;36mraw_input\u001b[1;34m(self, prompt)\u001b[0m\n\u001b[0;32m   1004\u001b[0m                 \u001b[1;34m\"raw_input was called, but this frontend does not support input requests.\"\u001b[0m\u001b[1;33m\u001b[0m\u001b[1;33m\u001b[0m\u001b[0m\n\u001b[0;32m   1005\u001b[0m             )\n\u001b[1;32m-> 1006\u001b[1;33m         return self._input_request(\n\u001b[0m\u001b[0;32m   1007\u001b[0m             \u001b[0mstr\u001b[0m\u001b[1;33m(\u001b[0m\u001b[0mprompt\u001b[0m\u001b[1;33m)\u001b[0m\u001b[1;33m,\u001b[0m\u001b[1;33m\u001b[0m\u001b[1;33m\u001b[0m\u001b[0m\n\u001b[0;32m   1008\u001b[0m             \u001b[0mself\u001b[0m\u001b[1;33m.\u001b[0m\u001b[0m_parent_ident\u001b[0m\u001b[1;33m[\u001b[0m\u001b[1;34m\"shell\"\u001b[0m\u001b[1;33m]\u001b[0m\u001b[1;33m,\u001b[0m\u001b[1;33m\u001b[0m\u001b[1;33m\u001b[0m\u001b[0m\n",
      "\u001b[1;32m~\\Anaconda3\\envs\\cakd5\\lib\\site-packages\\ipykernel\\kernelbase.py\u001b[0m in \u001b[0;36m_input_request\u001b[1;34m(self, prompt, ident, parent, password)\u001b[0m\n\u001b[0;32m   1049\u001b[0m             \u001b[1;32mexcept\u001b[0m \u001b[0mKeyboardInterrupt\u001b[0m\u001b[1;33m:\u001b[0m\u001b[1;33m\u001b[0m\u001b[1;33m\u001b[0m\u001b[0m\n\u001b[0;32m   1050\u001b[0m                 \u001b[1;31m# re-raise KeyboardInterrupt, to truncate traceback\u001b[0m\u001b[1;33m\u001b[0m\u001b[1;33m\u001b[0m\u001b[1;33m\u001b[0m\u001b[0m\n\u001b[1;32m-> 1051\u001b[1;33m                 \u001b[1;32mraise\u001b[0m \u001b[0mKeyboardInterrupt\u001b[0m\u001b[1;33m(\u001b[0m\u001b[1;34m\"Interrupted by user\"\u001b[0m\u001b[1;33m)\u001b[0m \u001b[1;32mfrom\u001b[0m \u001b[1;32mNone\u001b[0m\u001b[1;33m\u001b[0m\u001b[1;33m\u001b[0m\u001b[0m\n\u001b[0m\u001b[0;32m   1052\u001b[0m             \u001b[1;32mexcept\u001b[0m \u001b[0mException\u001b[0m\u001b[1;33m:\u001b[0m\u001b[1;33m\u001b[0m\u001b[1;33m\u001b[0m\u001b[0m\n\u001b[0;32m   1053\u001b[0m                 \u001b[0mself\u001b[0m\u001b[1;33m.\u001b[0m\u001b[0mlog\u001b[0m\u001b[1;33m.\u001b[0m\u001b[0mwarning\u001b[0m\u001b[1;33m(\u001b[0m\u001b[1;34m\"Invalid Message:\"\u001b[0m\u001b[1;33m,\u001b[0m \u001b[0mexc_info\u001b[0m\u001b[1;33m=\u001b[0m\u001b[1;32mTrue\u001b[0m\u001b[1;33m)\u001b[0m\u001b[1;33m\u001b[0m\u001b[1;33m\u001b[0m\u001b[0m\n",
      "\u001b[1;31mKeyboardInterrupt\u001b[0m: Interrupted by user"
     ]
    }
   ],
   "source": [
    "coffee = 5\n",
    "price = 300\n",
    "\n",
    "while 1:\n",
    "    money = int(input(\"맛있는 커피를 300원에 드립니다. 현금을 넣어주세요!!\"))\n",
    "    if money == 300:\n",
    "        print('커피를 맛있게 드세요')\n",
    "        coffee -= 1\n",
    "    elif money > 300:\n",
    "        c = money - 300\n",
    "        print(f'따뜻한 커피 드시고 잔돈 {c}원을 챙기세요' )\n",
    "        coffee -= 1\n",
    "    else:\n",
    "        print(f'커피는 {price}원입니다. 현금을 다시 넣어 주세요.')\n",
    "    if coffee == 0:\n",
    "        print('커피가 다 떨어졌어요~ 잠시 판매 중단합니다.')\n",
    "        break"
   ]
  },
  {
   "cell_type": "code",
   "execution_count": null,
   "id": "e6686135",
   "metadata": {},
   "outputs": [],
   "source": [
    "# [과제] 람다 함수를 이용해서 a의 b제곱을 구하는 식을 만들고\n",
    "# a, b가 아래와 같이 주어졌을 때 각각의 값을 구하세요. \n",
    "# a = 2, b = 5\n",
    "# a= 5, b = 2"
   ]
  },
  {
   "cell_type": "code",
   "execution_count": null,
   "id": "5a45bb8a",
   "metadata": {},
   "outputs": [],
   "source": []
  },
  {
   "cell_type": "code",
   "execution_count": 126,
   "id": "ef4d9efe",
   "metadata": {
    "scrolled": true
   },
   "outputs": [
    {
     "name": "stdout",
     "output_type": "stream",
     "text": [
      "2\n",
      "1\n"
     ]
    }
   ],
   "source": [
    "a = 5\n",
    "b = 2\n",
    "print(a//b)\n",
    "print(a%b)"
   ]
  },
  {
   "cell_type": "code",
   "execution_count": 127,
   "id": "6905c0c6",
   "metadata": {},
   "outputs": [
    {
     "name": "stdout",
     "output_type": "stream",
     "text": [
      "1000000\n"
     ]
    }
   ],
   "source": [
    "x = 100\n",
    "y = 3\n",
    "print(x**y)"
   ]
  },
  {
   "cell_type": "code",
   "execution_count": 128,
   "id": "3c6a47db",
   "metadata": {
    "scrolled": true
   },
   "outputs": [
    {
     "name": "stdout",
     "output_type": "stream",
     "text": [
      "Python3.8.3\n"
     ]
    }
   ],
   "source": [
    "a = 'Python'\n",
    "b = '3.8.3'\n",
    "print(a+b)\n"
   ]
  },
  {
   "cell_type": "code",
   "execution_count": 129,
   "id": "1ab7f757",
   "metadata": {},
   "outputs": [
    {
     "data": {
      "text/plain": [
       "int"
      ]
     },
     "execution_count": 129,
     "metadata": {},
     "output_type": "execute_result"
    }
   ],
   "source": [
    "a = 5\n",
    "a = \"10\"\n",
    "a = 15\n",
    "type(a)"
   ]
  },
  {
   "cell_type": "code",
   "execution_count": 135,
   "id": "6b63ac49",
   "metadata": {},
   "outputs": [
    {
     "data": {
      "text/plain": [
       "41.666666666666664"
      ]
     },
     "execution_count": 135,
     "metadata": {},
     "output_type": "execute_result"
    }
   ],
   "source": [
    "num = 5\n",
    "num **= 3\n",
    "num /= 3\n",
    "num"
   ]
  },
  {
   "cell_type": "code",
   "execution_count": 139,
   "id": "857bd5b4",
   "metadata": {},
   "outputs": [
    {
     "name": "stdout",
     "output_type": "stream",
     "text": [
      " 이름을 입력해주세요 장종호\n"
     ]
    },
    {
     "data": {
      "text/plain": [
       "'장종호입니다'"
      ]
     },
     "execution_count": 139,
     "metadata": {},
     "output_type": "execute_result"
    }
   ],
   "source": [
    "name = input(\" 이름을 입력해주세요 \")\n",
    "f'{name}입니다'"
   ]
  },
  {
   "cell_type": "code",
   "execution_count": 146,
   "id": "17c96725",
   "metadata": {
    "scrolled": false
   },
   "outputs": [
    {
     "name": "stdout",
     "output_type": "stream",
     "text": [
      " 첫 번째 숫자를 입력해주세요 3\n",
      " 두 번째 숫자를 입력해주세요 5\n",
      " 세 번째 숫자를 입력해주세요 7\n",
      "34\n"
     ]
    }
   ],
   "source": [
    "a = int(input(' 첫 번째 숫자를 입력해주세요 '))\n",
    "b = int(input(' 두 번째 숫자를 입력해주세요 '))\n",
    "c = int(input(' 세 번째 숫자를 입력해주세요 '))\n",
    "d = (a**b)//c\n",
    "\n",
    "print(d)"
   ]
  },
  {
   "cell_type": "code",
   "execution_count": null,
   "id": "04cacc16",
   "metadata": {},
   "outputs": [],
   "source": [
    "# 2와 5를 더한 후 3으로 나눈 나머지 값을 사용자 함수를 이용하여 구하세요.\n",
    "def cal_abc(a,b,c):\n",
    "    return(a+b)%c\n",
    "\n",
    "cal_abc(2,5,3)"
   ]
  },
  {
   "cell_type": "code",
   "execution_count": null,
   "id": "62d1497b",
   "metadata": {},
   "outputs": [],
   "source": [
    "# 문자열 앞의 공백을 제거하고 아래와 같이 출력하세요\n",
    "\n",
    "input_a = \"\"\"\n",
    "                       it is true \n",
    "'Python is fir for data analysis'\n",
    "\"\"\"\n",
    "\n",
    "print(input_a.strip())"
   ]
  },
  {
   "cell_type": "code",
   "execution_count": null,
   "id": "d8599c72",
   "metadata": {},
   "outputs": [],
   "source": [
    "# \"10/20/30/40/50\"을 '/'을 기준으로 자르세요.\n",
    "a = \"10/20/30/40/50\"\n",
    "b = \"10,20,30,40,50\"\n",
    "print(a.split(\"/\"))\n",
    "b.split(\",\")"
   ]
  },
  {
   "cell_type": "code",
   "execution_count": 60,
   "id": "6e2456c1",
   "metadata": {
    "scrolled": true
   },
   "outputs": [
    {
     "name": "stdout",
     "output_type": "stream",
     "text": [
      "36\n",
      "37\n",
      "다시 입력해 주세요\n"
     ]
    }
   ],
   "source": [
    "# 짝수와 짝수를 입력하면 곱한 값을 출력하고 홀수와 홀수를 입력하면 덧셈 값을 출력하고\n",
    "# 그외는 다시 입력하라는 메시지를 출력하세요\n",
    "\n",
    "x = int(input())\n",
    "y = int(input())\n",
    "\n",
    "if (x % 2 == 0) & (y % 2 == 0):\n",
    "    print(x * y)\n",
    "elif (x % 2 == 1) & (y % 2 == 1):\n",
    "    print(x + y)\n",
    "else:\n",
    "    print('다시 입력해 주세요')"
   ]
  },
  {
   "cell_type": "code",
   "execution_count": 7,
   "id": "24f45fd3",
   "metadata": {},
   "outputs": [
    {
     "name": "stdout",
     "output_type": "stream",
     "text": [
      "50 * 50 의 최대값은 2500 입니다.\n"
     ]
    }
   ],
   "source": [
    "# [과제] 1부터 100까지 아래와 같이 2개의 수를 곱해서 가장 큰 수를 구하세요.\n",
    "# [1*99], [2*98] ...... [99*1]\n",
    "\n",
    "max_p=0\n",
    "max_a=0\n",
    "\n",
    "for i in range(1,51):\n",
    "    if max_p<i*(100-i):\n",
    "        max_p=i*(100-i)\n",
    "        max_a=i\n",
    "print(max_a, \"*\",100-max_a, \"의 최대값은\",max_p,\"입니다.\")\n"
   ]
  },
  {
   "cell_type": "code",
   "execution_count": 11,
   "id": "c05c960f",
   "metadata": {},
   "outputs": [
    {
     "ename": "SyntaxError",
     "evalue": "invalid syntax (Temp/ipykernel_7816/798421888.py, line 9)",
     "output_type": "error",
     "traceback": [
      "\u001b[1;36m  File \u001b[1;32m\"C:\\Users\\admin\\AppData\\Local\\Temp/ipykernel_7816/798421888.py\"\u001b[1;36m, line \u001b[1;32m9\u001b[0m\n\u001b[1;33m    output (number+2)%3 append(number)\u001b[0m\n\u001b[1;37m                        ^\u001b[0m\n\u001b[1;31mSyntaxError\u001b[0m\u001b[1;31m:\u001b[0m invalid syntax\n"
     ]
    }
   ],
   "source": [
    "# [과제] [        ]을 채워서 아래 출력과 같이 출력하세요.\n",
    "# 출력 :\n",
    "# [[1,4,7,],[2,5,8],3,6,9]]\n",
    "\n",
    "numbers = [1,2,3,4,5,6,7,8,9]\n",
    "output = [[], [], []],\n",
    "\n",
    "for number in numbers:\n",
    "    output [               ].append(number)\n",
    "print(output)"
   ]
  },
  {
   "cell_type": "markdown",
   "id": "8863ced0",
   "metadata": {},
   "source": [
    "#python ramdom 모듈\n",
    "\n",
    "https://nittaku.tistory.com/443"
   ]
  },
  {
   "cell_type": "code",
   "execution_count": 4,
   "id": "063c37e2",
   "metadata": {},
   "outputs": [
    {
     "data": {
      "text/plain": [
       "array([14, 18,  1,  2, 18,  1,  7,  4,  8, 10, 17, 18,  7, 13, 11,  8,  0,\n",
       "        6, 12, 17])"
      ]
     },
     "execution_count": 4,
     "metadata": {},
     "output_type": "execute_result"
    }
   ],
   "source": [
    "import numpy as np\n",
    "#np.random.seed(0)\n",
    "num = np.random.randint(20,size=20)\n",
    "num"
   ]
  },
  {
   "cell_type": "code",
   "execution_count": null,
   "id": "5a92c5b5",
   "metadata": {},
   "outputs": [],
   "source": [
    "# [과제] 사용자가 입력한 게임 회수만큼 로또 번호를 출력하는 프로그램을 작성하세요."
   ]
  },
  {
   "cell_type": "code",
   "execution_count": 31,
   "id": "0db685e5",
   "metadata": {},
   "outputs": [
    {
     "name": "stdout",
     "output_type": "stream",
     "text": [
      "로또 게임를 몇번할까요?> 10\n",
      "1, 로또번호 : [8, 13, 21, 32, 33, 41, 43]\n",
      "2, 로또번호 : [7, 12, 12, 15, 21, 43, 45]\n",
      "3, 로또번호 : [3, 13, 16, 32, 36, 45, 46]\n",
      "4, 로또번호 : [2, 10, 14, 19, 21, 23, 33]\n",
      "5, 로또번호 : [9, 15, 27, 36, 38, 40, 40]\n",
      "6, 로또번호 : [5, 13, 25, 26, 29, 38, 39]\n",
      "7, 로또번호 : [3, 6, 21, 22, 32, 33, 44]\n",
      "8, 로또번호 : [24, 27, 28, 28, 31, 39, 40]\n",
      "9, 로또번호 : [1, 4, 10, 15, 17, 27, 37]\n",
      "10, 로또번호 : [8, 14, 17, 25, 27, 31, 43]\n"
     ]
    }
   ],
   "source": [
    "import random \n",
    "\n",
    "count = int(input(\"로또 게임를 몇번할까요?> \"))\n",
    "\n",
    "for i in range(count):\n",
    "    lotto_num = []\n",
    "    \n",
    "    for j in range(7):\n",
    "        rand_num = random.randint(1, 46)\n",
    "        lotto_num.append(rand_num)\n",
    "    \n",
    "    lotto_num.sort()\n",
    "    print(\"{}, 로또번호 : {}\".format(i+1, lotto_num))"
   ]
  },
  {
   "cell_type": "code",
   "execution_count": null,
   "id": "6227a32a",
   "metadata": {},
   "outputs": [],
   "source": [
    "# [과제] 남녀 파트너 정해주기 프로그램을 작성하세요(5개 커플)"
   ]
  },
  {
   "cell_type": "code",
   "execution_count": 53,
   "id": "2d1c522a",
   "metadata": {},
   "outputs": [
    {
     "name": "stdout",
     "output_type": "stream",
     "text": [
      "커플1:남자 2번-여자 1번\n",
      "커플2:남자 3번-여자 3번\n",
      "커플3:남자 5번-여자 2번\n",
      "커플4:남자 4번-여자 5번\n",
      "커플5:남자 1번-여자 4번\n"
     ]
    }
   ],
   "source": [
    "from random import shuffle\n",
    "\n",
    "male = ['남자 1번', '남자 2번', '남자 3번', '남자 4번', '남자 5번']\n",
    "female = ['여자 1번', '여자 2번', '여자 3번', '여자 4번', '여자 5번']\n",
    "shuffle(male)\n",
    "shuffle(female)\n",
    "couples = zip(male, female)\n",
    "\n",
    "for i, couple in enumerate(couples):\n",
    "    print(f'커플{i+1}:{couple[0]}-{couple[1]}')"
   ]
  },
  {
   "cell_type": "code",
   "execution_count": 9,
   "id": "456525b3",
   "metadata": {},
   "outputs": [
    {
     "name": "stdout",
     "output_type": "stream",
     "text": [
      "문장을 입력하세요.>장종호\n",
      "종호장\n"
     ]
    }
   ],
   "source": [
    "# 입력받은 문자열의 각 문자를 그 다음 문자로 변경하여 출력하세요.\n",
    "# 입력 abcde -> 출력 bcdea\n",
    "\n",
    "text = input('문장을 입력하세요.>')\n",
    "ret = ''\n",
    "for i in range(len(text)):\n",
    "    if i != len(text)-1:\n",
    "        ret += text[i+1]\n",
    "    else:\n",
    "        ret += text[0]\n",
    "print(ret)"
   ]
  },
  {
   "cell_type": "code",
   "execution_count": null,
   "id": "fc7235e9",
   "metadata": {},
   "outputs": [],
   "source": [
    "# 음식점의 음식 주문가격 산출 프로그램을 자유롭게 작성하세요\n",
    "'''\n",
    "중앙 식당에 오신 것을 환영합니다\n",
    "\n",
    "======================================\n",
    "\n",
    "            - 메  뉴 -\n",
    "    1. 불고기 비빔밥 : 12,000원\n",
    "    2. 야채 비빔밥 : 8,000원\n",
    "    3. 전주 비빔밥 : 10,000원\n",
    "    \n",
    "    세트 주문시 : 3000원 추가\n",
    "    (세트는 밥과 반찬이 추가됩니다.)\n",
    "    \n",
    "=======================================\n",
    "\n",
    "비빔밥 메뉴를 선택해 주세요. 1, 2, 3 >>> 2\n",
    "세트 주문을 하시겠습니까? 3,000원 추가 Y, n >>> y\n",
    "총 금액은 11,000원 입니다.\n",
    "'''"
   ]
  },
  {
   "cell_type": "code",
   "execution_count": 12,
   "id": "6a26081e",
   "metadata": {
    "scrolled": true
   },
   "outputs": [
    {
     "ename": "SyntaxError",
     "evalue": "invalid syntax (Temp/ipykernel_1504/2482318399.py, line 12)",
     "output_type": "error",
     "traceback": [
      "\u001b[1;36m  File \u001b[1;32m\"C:\\Users\\admin\\AppData\\Local\\Temp/ipykernel_1504/2482318399.py\"\u001b[1;36m, line \u001b[1;32m12\u001b[0m\n\u001b[1;33m    if combo = \"예\":\u001b[0m\n\u001b[1;37m             ^\u001b[0m\n\u001b[1;31mSyntaxError\u001b[0m\u001b[1;31m:\u001b[0m invalid syntax\n"
     ]
    }
   ],
   "source": [
    "menu = ['','불고기 비빔밥', '야채 비빔밥', '전주 비빔밥']\n",
    "price = [0, 120000, 8000, 10000]\n",
    "def menu_print():\n",
    "    i = 1\n",
    "    while i< len(menu):\n",
    "        print(i, menu[i], price[i])\n",
    "        i = i+1\n",
    "\n",
    "menu_print()\n",
    "n = int(input(\"메뉴를 선택하세요. : \"))\n",
    "combo = input(\"세트 주문을 하시겠습니까? 3000원이 추가됩니다. 예,아니오\")\n",
    "if combo = \"예\"\n",
    "    print(price(i) += 3000)\n",
    "total = price[n] \n",
    "print(menu[n], price[n],'원 ', '합계 ', total, '원')\n",
    "\n"
   ]
  },
  {
   "cell_type": "code",
   "execution_count": 3,
   "id": "62601220",
   "metadata": {
    "scrolled": true
   },
   "outputs": [
    {
     "name": "stdout",
     "output_type": "stream",
     "text": [
      "중앙 식당에 오신 것을 환영합니다. \n",
      "\n",
      "========================================\n",
      "\n",
      "\n",
      "       - 메   뉴 -\n",
      "       \n",
      "       \n",
      "  1. 떡볶이 : 6000원\n",
      "  2. 순대   : 7000원\n",
      "  3. 김밥   : 3000원\n",
      "  \n",
      "  세트 주문시 : 3000원 추가\n",
      "    \n",
      "\n",
      "\n",
      "========================================\n",
      "\n",
      "메뉴를 선택해 주세요. 1, 2, 3 >>> 4\n",
      "세트 주문을 하시겠습니까? 세트메뉴는 3천원이 추가됩니다. y,n >>> 4\n",
      "잘못 입력하셨습니다. 번호를 다시 선택해주세요\n",
      "잘못 입력하셨습니다. y or n을 입력해주세요\n",
      "총 금액은 0원 입니다. \n"
     ]
    }
   ],
   "source": [
    "# [과제] 수정 보완하세요.\n",
    "\n",
    "menu = \"\"\"\n",
    "\n",
    "       - 메   뉴 -\n",
    "       \n",
    "       \n",
    "  1. 떡볶이 : 6000원\n",
    "  2. 순대   : 7000원\n",
    "  3. 김밥   : 3000원\n",
    "  \n",
    "  세트 주문시 : 3000원 추가\n",
    "    \n",
    "\n",
    "\"\"\"\n",
    "print('중앙 식당에 오신 것을 환영합니다. '+'\\n')\n",
    "print(\"=\"*40)\n",
    "print(menu)\n",
    "print(\"=\"*40)\n",
    "print()\n",
    "\n",
    "order = input('메뉴를 선택해 주세요. 1, 2, 3 >>> ')\n",
    "combo = input('세트 주문을 하시겠습니까? 세트메뉴는 3천원이 추가됩니다. y,n >>> ')\n",
    "\n",
    "price = 0\n",
    "if order == '1':\n",
    "    price == 6000\n",
    "elif order == '2':\n",
    "    price == 7000\n",
    "elif order == '3':\n",
    "    price ==3000\n",
    "else:\n",
    "    print('잘못 입력하셨습니다. 번호를 다시 선택해주세요')\n",
    "    \n",
    "if combo == 'y':\n",
    "    price += 3000\n",
    "elif combo == 'n':\n",
    "    price = price\n",
    "else:\n",
    "    print('잘못 입력하셨습니다. y or n을 입력해주세요')\n",
    "print(f'총 금액은 {price}원 입니다. ')\n"
   ]
  },
  {
   "cell_type": "code",
   "execution_count": null,
   "id": "a7d8f21e",
   "metadata": {},
   "outputs": [],
   "source": [
    "# [과제] 플레이어가 3승 할 때까지 계속 진행되는 가위바위보 게임 프로그램을 작성하세요.\n",
    "# 게임은 플레이어와 컴퓨터가 진행"
   ]
  },
  {
   "cell_type": "code",
   "execution_count": null,
   "id": "06b99a93",
   "metadata": {},
   "outputs": [],
   "source": [
    "# 컴퓨터가 랜덤하게 생성하는 숫자 맞추기 프로그램을 작성하세요.\n",
    "\n"
   ]
  }
 ],
 "metadata": {
  "kernelspec": {
   "display_name": "Python 3 (ipykernel)",
   "language": "python",
   "name": "python3"
  },
  "language_info": {
   "codemirror_mode": {
    "name": "ipython",
    "version": 3
   },
   "file_extension": ".py",
   "mimetype": "text/x-python",
   "name": "python",
   "nbconvert_exporter": "python",
   "pygments_lexer": "ipython3",
   "version": "3.8.12"
  }
 },
 "nbformat": 4,
 "nbformat_minor": 5
}
