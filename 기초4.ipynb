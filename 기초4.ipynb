{
 "cells": [
  {
   "cell_type": "code",
   "execution_count": 1,
   "id": "5dd64b14",
   "metadata": {},
   "outputs": [
    {
     "data": {
      "text/plain": [
       "1"
      ]
     },
     "execution_count": 1,
     "metadata": {},
     "output_type": "execute_result"
    }
   ],
   "source": [
    "# 2와 5를 더한 후 3으로 나눈 나머지 값을 사용자 함수를 이용하여 구하세요.\n",
    "def cal_abc(a,b,c):\n",
    "    return(a+b)%c\n",
    "\n",
    "cal_abc(2,5,3)"
   ]
  },
  {
   "cell_type": "code",
   "execution_count": 2,
   "id": "96c19a5c",
   "metadata": {},
   "outputs": [
    {
     "name": "stdout",
     "output_type": "stream",
     "text": [
      "it is true \n",
      "'Python is fir for data analysis'\n"
     ]
    }
   ],
   "source": [
    "# 문자열 앞의 공백을 제거하고 아래와 같이 출력하세요\n",
    "\n",
    "input_a = \"\"\"\n",
    "                       it is true \n",
    "'Python is fir for data analysis'\n",
    "\"\"\"\n",
    "\n",
    "print(input_a.strip())"
   ]
  },
  {
   "cell_type": "code",
   "execution_count": 5,
   "id": "0d9aba83",
   "metadata": {},
   "outputs": [
    {
     "name": "stdout",
     "output_type": "stream",
     "text": [
      "['10', '20', '30', '40', '50']\n"
     ]
    },
    {
     "data": {
      "text/plain": [
       "['10', '20', '30', '40', '50']"
      ]
     },
     "execution_count": 5,
     "metadata": {},
     "output_type": "execute_result"
    }
   ],
   "source": [
    "# \"10/20/30/40/50\"을 '/'을 기준으로 자르세요.\n",
    "a = \"10/20/30/40/50\"\n",
    "b = \"10,20,30,40,50\"\n",
    "print(a.split(\"/\"))\n",
    "b.split(\",\")"
   ]
  },
  {
   "cell_type": "code",
   "execution_count": 2,
   "id": "7a723770",
   "metadata": {
    "scrolled": true
   },
   "outputs": [
    {
     "name": "stdout",
     "output_type": "stream",
     "text": [
      "3\n",
      "3\n",
      "6\n"
     ]
    }
   ],
   "source": [
    "# 짝수와 짝수를 입력하면 곱한 값을 출력하고 홀수와 홀수를 입력하면 덧셈 값을 출력하고\n",
    "# 그외는 다시 입력하라는 메시지를 출력하세요\n",
    "\n",
    "x = int(input())\n",
    "y = int(input())\n",
    "\n",
    "if (x % 2 == 0) & (y % 2 == 0):\n",
    "    print(x * y)\n",
    "elif (x % 2 == 1) & (y % 2 == 1):\n",
    "    print(x + y)\n",
    "else:\n",
    "    print('다시 입력해 주세요')"
   ]
  },
  {
   "cell_type": "code",
   "execution_count": null,
   "id": "67c901cc",
   "metadata": {},
   "outputs": [],
   "source": [
    "# [과제] [        ]을 채워서 아래 출력과 같이 출력하세요.\n",
    "# 출력 :\n",
    "# [[1,4,7,],[2,5,8],3,6,9]]\n",
    "\n",
    "numbers = [1,2,3,4,5,6,7,8,9]\n",
    "output = [[], [], []],\n",
    "\n",
    "for number in numbers:\n",
    "    output [               ].append(number)\n",
    "print(output)"
   ]
  },
  {
   "cell_type": "markdown",
   "id": "03864852",
   "metadata": {},
   "source": [
    "python ramdom 모듈\n",
    "\n",
    "https://nittaku.tistory.com/443"
   ]
  },
  {
   "cell_type": "code",
   "execution_count": 3,
   "id": "8298ddde",
   "metadata": {
    "scrolled": true
   },
   "outputs": [
    {
     "data": {
      "text/plain": [
       "array([12, 15,  0,  3,  3,  7,  9, 19, 18,  4,  6, 12,  1,  6,  7, 14, 17,\n",
       "        5, 13,  8])"
      ]
     },
     "execution_count": 3,
     "metadata": {},
     "output_type": "execute_result"
    }
   ],
   "source": [
    "import numpy as np\n",
    "np.random.seed(0)\n",
    "num = np.random.randint(20,size=20)\n",
    "num"
   ]
  },
  {
   "cell_type": "code",
   "execution_count": null,
   "id": "c710c568",
   "metadata": {},
   "outputs": [],
   "source": [
    "# [과제] 사용자가 입력한 게임 회수만큼 로또 번호를 출력하는 프로그램을 작성하세요."
   ]
  },
  {
   "cell_type": "code",
   "execution_count": null,
   "id": "b4f8f774",
   "metadata": {},
   "outputs": [],
   "source": [
    "# [과제] 남녀 파트너 정해주기 프로그램을 작성하세요(5개 커플)"
   ]
  },
  {
   "cell_type": "code",
   "execution_count": null,
   "id": "f4766e74",
   "metadata": {},
   "outputs": [],
   "source": [
    "# 입력받은 문자열의 각 문자를 그 다음 문자로 변경하여 출력하세요.\n",
    "#입력 abcde -> 출력 bcdea"
   ]
  },
  {
   "cell_type": "code",
   "execution_count": null,
   "id": "0eca7f28",
   "metadata": {},
   "outputs": [],
   "source": [
    "# 음식점의 음식 주문가격 산출 프로그램을 자유롭게 작성하세요\n",
    "'''\n",
    "중앙 식당에 오신 것을 환영합니다\n",
    "\n",
    "======================================\n",
    "\n",
    "            - 메  뉴 -\n",
    "    1. 불고기 비빔밥 : 12,000원\n",
    "    2. 야채 비빔밥 : 8,000원\n",
    "    3. 전주 비빔밥 : 10,000원\n",
    "    \n",
    "    세트 주문시 : 3000원 추가\n",
    "    (세트는 밥과 반찬이 추가됩니다.)\n",
    "    \n",
    "=======================================\n",
    "\n",
    "비빔밥 메뉴를 선택해 주세요. 1, 2, 3 >>> 2\n",
    "세트 주문을 하시겠습니까? 3,000원 추가 Y, n >>> y\n",
    "총 금액은 11,000원 입니다.\n",
    "'''"
   ]
  },
  {
   "cell_type": "code",
   "execution_count": null,
   "id": "40b136a5",
   "metadata": {},
   "outputs": [],
   "source": [
    "\n",
    "\n"
   ]
  }
 ],
 "metadata": {
  "kernelspec": {
   "display_name": "Python 3 (ipykernel)",
   "language": "python",
   "name": "python3"
  },
  "language_info": {
   "codemirror_mode": {
    "name": "ipython",
    "version": 3
   },
   "file_extension": ".py",
   "mimetype": "text/x-python",
   "name": "python",
   "nbconvert_exporter": "python",
   "pygments_lexer": "ipython3",
   "version": "3.8.12"
  }
 },
 "nbformat": 4,
 "nbformat_minor": 5
}
