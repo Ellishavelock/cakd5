{
 "cells": [
  {
   "cell_type": "code",
   "execution_count": 1,
   "id": "c5280bc6",
   "metadata": {},
   "outputs": [
    {
     "name": "stdout",
     "output_type": "stream",
     "text": [
      "Hello Python\n"
     ]
    }
   ],
   "source": [
    "print('Hello Python')"
   ]
  },
  {
   "cell_type": "markdown",
   "id": "11a880c2",
   "metadata": {},
   "source": [
    "# 주피터 노트북 사용법\n",
    "## 주피터 노트북 사용법\n",
    "### 주피터 노트북 사용법\n",
    "#### 주피터 노트북 사용법\n",
    "##### 주피터 노트북 사용법\n",
    "\n",
    "- 주피터\n",
    "- 노트북  \n",
    "\n",
    "#### 주피터 노트북 사용법\n",
    "1. 주피터\n",
    "2. 노트북"
   ]
  },
  {
   "cell_type": "markdown",
   "id": "980d6172",
   "metadata": {},
   "source": [
    "단축키\n",
    "- ESC를 눌러 커맨드 모드로 진입하여 Enter를 통해 Cell을 수정 할 수 있다. \n",
    "- A\n",
    "- B\n",
    "- M\n",
    "- Y\n",
    "- Ctrl + Enter, Shift + Enter, Alt + Enter"
   ]
  },
  {
   "cell_type": "markdown",
   "id": "c66692cd",
   "metadata": {},
   "source": [
    "매직명령어 : 맨 앞에 %를 붙이고 특정 명령을 수행할 수 있다. 파이썬 문법에는 포함되지 않는 Jupyter Notebook만의 기능\n",
    "<img src = '매직명령어.jpg' STYLE='width:800px:'>"
   ]
  },
  {
   "cell_type": "code",
   "execution_count": 3,
   "id": "937d1fe2",
   "metadata": {
    "scrolled": true
   },
   "outputs": [
    {
     "name": "stdout",
     "output_type": "stream",
     "text": [
      " C 드라이브의 볼륨에는 이름이 없습니다.\n",
      " 볼륨 일련 번호: E0D6-CC5C\n",
      "\n",
      " C:\\cakd5\\workspace\\m1_programming 디렉터리\n",
      "\n",
      "2021-12-28  오후 04:27    <DIR>          .\n",
      "2021-12-28  오후 04:27    <DIR>          ..\n",
      "2021-12-28  오후 03:49    <DIR>          .ipynb_checkpoints\n",
      "2021-12-28  오후 04:27             2,329 Jupyter notebook 사용법.ipynb\n",
      "2021-12-28  오후 03:50             1,767 기초.ipynb\n",
      "2021-12-28  오후 04:18            94,995 매직명령어.jpg\n",
      "               3개 파일              99,091 바이트\n",
      "               3개 디렉터리  957,360,721,920 바이트 남음\n"
     ]
    }
   ],
   "source": [
    "%ls"
   ]
  },
  {
   "cell_type": "markdown",
   "id": "78117770",
   "metadata": {},
   "source": [
    "## 수식문법\n",
    "- markdown 셀을 이용\n",
    "- ＄ 혹은 ＄＄ 를 앞 뒤로 감싸서 수식을 기술\n",
    " * $: 문장 안에 기술해야 하는 경우\n",
    " * $$: 전체 라인으로 표기\n",
    "- _ 와 ^ 기호를 이용해서 아래첨자와 위첨자를 사용 : a_1, a_{ij}, b^2, b^{ij}, c_1^2\n",
    "\n",
    "$a^2 + b^2 = c^2$\n",
    "\n",
    "$$ E = mc^2 $$\n",
    "\n",
    "라텍스 문법 : https://ko.wikipedia.org/wiki/%EC%9C%84%ED%82%A4%EB%B0%B1%EA%B3%BC:TeX_%EB%AC%B8%EB%B2%95"
   ]
  },
  {
   "cell_type": "markdown",
   "id": "df2dc7dd",
   "metadata": {},
   "source": [
    "https://www.youtube.com/channel/UCOlMZP-QJc0sWC2T0Rg2ZfA"
   ]
  },
  {
   "cell_type": "markdown",
   "id": "e014f155",
   "metadata": {},
   "source": [
    "$\\begin{bmatrix}\n",
    "0 & \\cdots & 0 \\\\\n",
    "\\vdots & \\ddots & \\vdots \\\\\n",
    "0 & \\cdots & 0\n",
    "\\end{bmatrix}$"
   ]
  },
  {
   "cell_type": "markdown",
   "id": "f725c669",
   "metadata": {},
   "source": [
    "$\\mathfrak{ABCDEFGHI}$"
   ]
  },
  {
   "cell_type": "markdown",
   "id": "b876c6e5",
   "metadata": {},
   "source": [
    "해외논문 약어,약자 정리\n",
    "https://blog.naver.com/elfsince1999/220913828238"
   ]
  },
  {
   "cell_type": "code",
   "execution_count": 6,
   "id": "13f512c7",
   "metadata": {},
   "outputs": [
    {
     "name": "stdout",
     "output_type": "stream",
     "text": [
      "a is greater than 1\n"
     ]
    }
   ],
   "source": [
    ">>> a = 3\n",
    ">>> if a > 1:\n",
    "        print(\"a is greater than 1\")"
   ]
  }
 ],
 "metadata": {
  "kernelspec": {
   "display_name": "Python 3 (ipykernel)",
   "language": "python",
   "name": "python3"
  },
  "language_info": {
   "codemirror_mode": {
    "name": "ipython",
    "version": 3
   },
   "file_extension": ".py",
   "mimetype": "text/x-python",
   "name": "python",
   "nbconvert_exporter": "python",
   "pygments_lexer": "ipython3",
   "version": "3.8.12"
  }
 },
 "nbformat": 4,
 "nbformat_minor": 5
}
